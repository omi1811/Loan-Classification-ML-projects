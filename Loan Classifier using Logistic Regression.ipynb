{
 "cells": [
  {
   "cell_type": "code",
   "execution_count": 2,
   "id": "2a332678",
   "metadata": {},
   "outputs": [],
   "source": [
    "import numpy as np\n",
    "import matplotlib.pyplot as plt\n",
    "import pandas as pd\n",
    "%matplotlib inline"
   ]
  },
  {
   "cell_type": "code",
   "execution_count": 3,
   "id": "570beb53",
   "metadata": {},
   "outputs": [],
   "source": [
    "df=pd.read_csv('https://raw.githubusercontent.com/moezali1/modelbit/main/loans.csv')"
   ]
  },
  {
   "cell_type": "code",
   "execution_count": 4,
   "id": "2fcbbfaf",
   "metadata": {},
   "outputs": [
    {
     "data": {
      "text/html": [
       "<div>\n",
       "<style scoped>\n",
       "    .dataframe tbody tr th:only-of-type {\n",
       "        vertical-align: middle;\n",
       "    }\n",
       "\n",
       "    .dataframe tbody tr th {\n",
       "        vertical-align: top;\n",
       "    }\n",
       "\n",
       "    .dataframe thead th {\n",
       "        text-align: right;\n",
       "    }\n",
       "</style>\n",
       "<table border=\"1\" class=\"dataframe\">\n",
       "  <thead>\n",
       "    <tr style=\"text-align: right;\">\n",
       "      <th></th>\n",
       "      <th>Applicant_ID</th>\n",
       "      <th>Age</th>\n",
       "      <th>Annual_Income</th>\n",
       "      <th>Credit_Score</th>\n",
       "      <th>Employment_Years</th>\n",
       "      <th>Loan_Amount_Requested</th>\n",
       "      <th>Default</th>\n",
       "    </tr>\n",
       "  </thead>\n",
       "  <tbody>\n",
       "    <tr>\n",
       "      <th>0</th>\n",
       "      <td>10</td>\n",
       "      <td>32</td>\n",
       "      <td>82133</td>\n",
       "      <td>689</td>\n",
       "      <td>1</td>\n",
       "      <td>10789</td>\n",
       "      <td>No</td>\n",
       "    </tr>\n",
       "    <tr>\n",
       "      <th>1</th>\n",
       "      <td>38</td>\n",
       "      <td>30</td>\n",
       "      <td>53172</td>\n",
       "      <td>588</td>\n",
       "      <td>3</td>\n",
       "      <td>5442</td>\n",
       "      <td>Yes</td>\n",
       "    </tr>\n",
       "    <tr>\n",
       "      <th>2</th>\n",
       "      <td>6</td>\n",
       "      <td>31</td>\n",
       "      <td>90000</td>\n",
       "      <td>573</td>\n",
       "      <td>4</td>\n",
       "      <td>5000</td>\n",
       "      <td>Yes</td>\n",
       "    </tr>\n",
       "    <tr>\n",
       "      <th>3</th>\n",
       "      <td>15</td>\n",
       "      <td>29</td>\n",
       "      <td>74634</td>\n",
       "      <td>621</td>\n",
       "      <td>7</td>\n",
       "      <td>16074</td>\n",
       "      <td>Yes</td>\n",
       "    </tr>\n",
       "    <tr>\n",
       "      <th>4</th>\n",
       "      <td>35</td>\n",
       "      <td>36</td>\n",
       "      <td>78232</td>\n",
       "      <td>701</td>\n",
       "      <td>5</td>\n",
       "      <td>17742</td>\n",
       "      <td>No</td>\n",
       "    </tr>\n",
       "  </tbody>\n",
       "</table>\n",
       "</div>"
      ],
      "text/plain": [
       "   Applicant_ID  Age  Annual_Income  Credit_Score  Employment_Years  \\\n",
       "0            10   32          82133           689                 1   \n",
       "1            38   30          53172           588                 3   \n",
       "2             6   31          90000           573                 4   \n",
       "3            15   29          74634           621                 7   \n",
       "4            35   36          78232           701                 5   \n",
       "\n",
       "   Loan_Amount_Requested Default  \n",
       "0                  10789      No  \n",
       "1                   5442     Yes  \n",
       "2                   5000     Yes  \n",
       "3                  16074     Yes  \n",
       "4                  17742      No  "
      ]
     },
     "execution_count": 4,
     "metadata": {},
     "output_type": "execute_result"
    }
   ],
   "source": [
    "df.head()"
   ]
  },
  {
   "cell_type": "code",
   "execution_count": 5,
   "id": "c4834f65",
   "metadata": {},
   "outputs": [
    {
     "data": {
      "text/plain": [
       "<bound method NDFrame.describe of       Applicant_ID  Age  Annual_Income  Credit_Score  Employment_Years  \\\n",
       "0               10   32          82133           689                 1   \n",
       "1               38   30          53172           588                 3   \n",
       "2                6   31          90000           573                 4   \n",
       "3               15   29          74634           621                 7   \n",
       "4               35   36          78232           701                 5   \n",
       "...            ...  ...            ...           ...               ...   \n",
       "4995            28   27          75641           634                 4   \n",
       "4996            36   27          63483           571                 1   \n",
       "4997            34   48          88626           722                10   \n",
       "4998            28   36          90000           644                13   \n",
       "4999            35   24          43888           608                 3   \n",
       "\n",
       "      Loan_Amount_Requested Default  \n",
       "0                     10789      No  \n",
       "1                      5442     Yes  \n",
       "2                      5000     Yes  \n",
       "3                     16074     Yes  \n",
       "4                     17742      No  \n",
       "...                     ...     ...  \n",
       "4995                   5000     Yes  \n",
       "4996                   5000     Yes  \n",
       "4997                  25850      No  \n",
       "4998                  14923      No  \n",
       "4999                   5000     Yes  \n",
       "\n",
       "[5000 rows x 7 columns]>"
      ]
     },
     "execution_count": 5,
     "metadata": {},
     "output_type": "execute_result"
    }
   ],
   "source": [
    "df.describe"
   ]
  },
  {
   "cell_type": "code",
   "execution_count": 6,
   "id": "0c82f03b",
   "metadata": {},
   "outputs": [],
   "source": [
    "df.drop(labels=['Applicant_ID'],axis=1,inplace=True)\n"
   ]
  },
  {
   "cell_type": "code",
   "execution_count": 7,
   "id": "730b7ae6",
   "metadata": {},
   "outputs": [],
   "source": [
    "X=df[['Annual_Income', 'Credit_Score', 'Employment_Years', 'Loan_Amount_Requested','Age']]"
   ]
  },
  {
   "cell_type": "code",
   "execution_count": 8,
   "id": "6a1be84f",
   "metadata": {},
   "outputs": [],
   "source": [
    "y = df['Default']"
   ]
  },
  {
   "cell_type": "code",
   "execution_count": 9,
   "id": "1bd7ccdf",
   "metadata": {},
   "outputs": [],
   "source": [
    "# Columns to be scaled\n",
    "numeric_features = ['Annual_Income', 'Credit_Score', 'Employment_Years', 'Loan_Amount_Requested']\n",
    "\n",
    "# Column to be binned and one-hot encoded\n",
    "categorical_features = ['Age']"
   ]
  },
  {
   "cell_type": "code",
   "execution_count": 10,
   "id": "c441b063",
   "metadata": {},
   "outputs": [],
   "source": [
    "from sklearn.pipeline import Pipeline\n",
    "from sklearn.compose import ColumnTransformer\n",
    "from sklearn.preprocessing import MinMaxScaler, OneHotEncoder\n",
    "from sklearn.linear_model import LogisticRegression\n",
    "from sklearn.impute import SimpleImputer\n",
    "from sklearn.preprocessing import KBinsDiscretizer\n",
    "from sklearn.model_selection import train_test_split"
   ]
  },
  {
   "cell_type": "code",
   "execution_count": 11,
   "id": "ddc6f811",
   "metadata": {},
   "outputs": [],
   "source": [
    "# Create transformers\n",
    "numeric_transformer = Pipeline(steps=[\n",
    "    ('imputer', SimpleImputer(strategy='median')),\n",
    "    ('scaler', MinMaxScaler())\n",
    "])\n",
    "categorical_transformer = Pipeline(steps=[\n",
    "    ('bin', KBinsDiscretizer(n_bins=6, encode='ordinal', strategy='quantile')),\n",
    "    ('encoder', OneHotEncoder(handle_unknown='ignore'))\n",
    "])\n",
    "\n",
    "# Combine all transformers into a preprocessor using ColumnTransformer\n",
    "preprocessor = ColumnTransformer(\n",
    "    transformers=[\n",
    "        ('num', numeric_transformer, numeric_features),\n",
    "        ('cat', categorical_transformer, categorical_features)\n",
    "    ])"
   ]
  },
  {
   "cell_type": "code",
   "execution_count": 12,
   "id": "74de83cd",
   "metadata": {},
   "outputs": [
    {
     "data": {
      "text/plain": [
       "Pipeline(steps=[('preprocessor',\n",
       "                 ColumnTransformer(transformers=[('num',\n",
       "                                                  Pipeline(steps=[('imputer',\n",
       "                                                                   SimpleImputer(strategy='median')),\n",
       "                                                                  ('scaler',\n",
       "                                                                   MinMaxScaler())]),\n",
       "                                                  ['Annual_Income',\n",
       "                                                   'Credit_Score',\n",
       "                                                   'Employment_Years',\n",
       "                                                   'Loan_Amount_Requested']),\n",
       "                                                 ('cat',\n",
       "                                                  Pipeline(steps=[('bin',\n",
       "                                                                   KBinsDiscretizer(encode='ordinal',\n",
       "                                                                                    n_bins=6)),\n",
       "                                                                  ('encoder',\n",
       "                                                                   OneHotEncoder(handle_unknown='ignore'))]),\n",
       "                                                  ['Age'])])),\n",
       "                ('classifier', LogisticRegression())])"
      ]
     },
     "execution_count": 12,
     "metadata": {},
     "output_type": "execute_result"
    }
   ],
   "source": [
    "# Create and evaluate the pipeline\n",
    "pipeline = Pipeline(steps=[('preprocessor', preprocessor),\n",
    "                           ('classifier', LogisticRegression())])\n",
    "pipeline"
   ]
  },
  {
   "cell_type": "code",
   "execution_count": 13,
   "id": "1afb2843",
   "metadata": {},
   "outputs": [
    {
     "name": "stdout",
     "output_type": "stream",
     "text": [
      "Shape of X: (5000, 5)\n",
      "Shape of y: (5000,)\n"
     ]
    }
   ],
   "source": [
    "# Check the shape of X and y\n",
    "print(\"Shape of X:\", X.shape)\n",
    "print(\"Shape of y:\", y.shape)\n",
    "\n",
    "# Ensure X and y have the same number of samples\n",
    "if X.shape[0] != y.shape[0]:\n",
    "    # If they don't match, adjust the data accordingly\n",
    "    # For example, subset X and y to have the same number of samples\n",
    "    X = X[:y.shape[0], :]\n",
    "    print(\"Adjusted shape of X:\", X.shape)"
   ]
  },
  {
   "cell_type": "code",
   "execution_count": 14,
   "id": "fcddb76b",
   "metadata": {},
   "outputs": [],
   "source": [
    "from sklearn.model_selection import train_test_split\n",
    "\n",
    "# Split the data into a training set and a test set\n",
    "X_train, X_test, y_train, y_test = train_test_split(X, y, test_size=0.3, random_state=42)"
   ]
  },
  {
   "cell_type": "code",
   "execution_count": 15,
   "id": "aeb15fa9",
   "metadata": {},
   "outputs": [
    {
     "name": "stdout",
     "output_type": "stream",
     "text": [
      "X_train: (3500, 5)\n",
      "X_test: (1500, 5)\n",
      "y_train: (3500,)\n",
      "y_test: (1500,)\n"
     ]
    }
   ],
   "source": [
    "# print train and test set shape\n",
    "print(\"X_train:\", X_train.shape)\n",
    "print(\"X_test:\", X_test.shape)\n",
    "print(\"y_train:\", y_train.shape)\n",
    "print(\"y_test:\", y_test.shape)\n"
   ]
  },
  {
   "cell_type": "code",
   "execution_count": 16,
   "id": "1663a6d1",
   "metadata": {},
   "outputs": [],
   "source": [
    "# generate predictions\n",
    "pipeline.fit(X_train,y_train)\n",
    "y_pred = pipeline.predict(X_test)\n",
    "y_pred_prob = pipeline.predict_proba(X_test)[:, 1]"
   ]
  },
  {
   "cell_type": "code",
   "execution_count": 17,
   "id": "5f4372f3",
   "metadata": {},
   "outputs": [
    {
     "name": "stdout",
     "output_type": "stream",
     "text": [
      "0.9606666666666667\n"
     ]
    }
   ],
   "source": [
    "from sklearn.metrics import accuracy_score\n",
    "print(accuracy_score(y_test,y_pred))"
   ]
  },
  {
   "cell_type": "code",
   "execution_count": 74,
   "id": "e990dafc",
   "metadata": {},
   "outputs": [
    {
     "data": {
      "text/html": [
       "\n",
       "<div style=\"margin: 0; padding: 5px; line-height: 1.75; font-size: 14px; vertical-align: baseline; list-style: none; font-family: Roboto, Arial, sans-serif; background: none;\">\n",
       "  <div style=\"margin: 0; padding: 0; line-height: 1.75; font-size: 14px; vertical-align: baseline; list-style: none; font-family: Roboto, Arial, sans-serif; background: none;\">\n",
       "    You're <span style=\"margin: 0; padding: 0; line-height: 1.75; font-size: 14px; vertical-align: baseline; list-style: none; font-family: Roboto, Arial, sans-serif; background: none; color: #15803d; font-weight: bold;\">connected</span> to Modelbit as omkarshrotri2021.ainds@mmcoe.edu.in.\n",
       "    Workspace: <span style=\"margin: 0; padding: 0; line-height: 1.75; font-size: 14px; vertical-align: baseline; list-style: none; font-family: monospace; background: none; font-weight: bold; color: #845B99;\">mmcoe-edu</span>.\n",
       "    \n",
       "    Branch: <span style=\"margin: 0; padding: 0; line-height: 1.75; font-size: 14px; vertical-align: baseline; list-style: none; font-family: monospace; background: none; font-weight: bold; color: #845B99;\">main</span>\n",
       "\t</div>\n",
       "  \n",
       "\n",
       "\n",
       "</div>"
      ],
      "text/plain": [
       "<IPython.core.display.HTML object>"
      ]
     },
     "metadata": {},
     "output_type": "display_data"
    }
   ],
   "source": [
    "# install modelbit\n",
    "!pip install modelbit\n",
    "\n",
    "# run on top of your notebook\n",
    "import modelbit\n",
    "mb = modelbit.login()"
   ]
  },
  {
   "cell_type": "code",
   "execution_count": 18,
   "id": "d9e45376",
   "metadata": {},
   "outputs": [],
   "source": [
    "import pandas as pd\n",
    "import numpy as np\n",
    "\n",
    "# first define function\n",
    "def predict_loan_default(Age: int, Annual_Income: float, Credit_Score: int, Employment_Years: float, Loan_Amount_Requested: float)-> float:\n",
    "   \n",
    "  \"\"\"\n",
    "  Predict the probability of loan default using a pre-trained machine learning pipeline.\n",
    "\n",
    "  Args:\n",
    "      Age (int): Applicant's age.\n",
    "      Annual_Income (float): Applicant's annual income.\n",
    "      Credit_Score (int): Applicant's credit score.\n",
    "      Employment_Years (float): Number of years employed.\n",
    "      Loan_Amount_Requested (float): Requested loan amount.\n",
    "\n",
    "  Returns:\n",
    "      float: Probability of loan default.\n",
    "  \"\"\"\n",
    "  \n",
    "  return pipeline.predict_proba(pd.DataFrame([[Age, Annual_Income, Credit_Score, Employment_Years, Loan_Amount_Requested]],\n",
    "                                             columns = ['Age', 'Annual_Income', 'Credit_Score', 'Employment_Years', 'Loan_Amount_Requested']))[:,1]     "
   ]
  },
  {
   "cell_type": "code",
   "execution_count": 19,
   "id": "b2c19523",
   "metadata": {},
   "outputs": [
    {
     "data": {
      "text/plain": [
       "array([4.28870351e-27])"
      ]
     },
     "execution_count": 19,
     "metadata": {},
     "output_type": "execute_result"
    }
   ],
   "source": [
    "predict_loan_default(32, 821233, 689, 1, 10789)"
   ]
  },
  {
   "cell_type": "code",
   "execution_count": 20,
   "id": "0785f331",
   "metadata": {},
   "outputs": [
    {
     "data": {
      "text/plain": [
       "array([2.12347598e-44])"
      ]
     },
     "execution_count": 20,
     "metadata": {},
     "output_type": "execute_result"
    }
   ],
   "source": [
    "predict_loan_default(40, 1021233, 700, 10, 120789)"
   ]
  },
  {
   "cell_type": "code",
   "execution_count": null,
   "id": "577d87b8",
   "metadata": {},
   "outputs": [],
   "source": [
    "from sklearn.metrics import confusion_matrix"
   ]
  }
 ],
 "metadata": {
  "kernelspec": {
   "display_name": "Python 3 (ipykernel)",
   "language": "python",
   "name": "python3"
  },
  "language_info": {
   "codemirror_mode": {
    "name": "ipython",
    "version": 3
   },
   "file_extension": ".py",
   "mimetype": "text/x-python",
   "name": "python",
   "nbconvert_exporter": "python",
   "pygments_lexer": "ipython3",
   "version": "3.9.12"
  }
 },
 "nbformat": 4,
 "nbformat_minor": 5
}
